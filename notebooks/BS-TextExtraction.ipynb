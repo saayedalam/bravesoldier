{
 "cells": [
  {
   "cell_type": "code",
   "execution_count": 1,
   "metadata": {},
   "outputs": [],
   "source": [
    "# Library for Reddit API\n",
    "import praw\n",
    "import pandas as pd"
   ]
  },
  {
   "cell_type": "code",
   "execution_count": 4,
   "metadata": {},
   "outputs": [],
   "source": [
    "# Reddit API Credentials\n",
    "reddit = praw.Reddit(client_id='7_PY9asBHeVJxw',\n",
    "                     client_secret='KL01wgTYZqwEDdPH-R8vNBqFYe4',\n",
    "                     password='9S2a8a7hcr!',\n",
    "                     user_agent='bravesoldier by /u/saayed',\n",
    "                     username='saayed')"
   ]
  },
  {
   "cell_type": "code",
   "execution_count": 5,
   "metadata": {},
   "outputs": [],
   "source": [
    "def get_top_subreddit(sr):\n",
    "    x_subreddit = reddit.subreddit(sr).top(limit=1000)\n",
    "    \n",
    "    # Create an empty dictionary to save data\n",
    "    dict = {'title': [],\n",
    "            'body': [],\n",
    "            'author': [],\n",
    "            'time': [],\n",
    "           }\n",
    "\n",
    "    # Storing the data in the empty dictionary\n",
    "    for post in x_subreddit:\n",
    "        dict['title'].append(post.title)\n",
    "        dict['body'].append(post.selftext)\n",
    "        dict['author'].append(post.author)\n",
    "        dict['time'].append(post.created_utc)\n",
    "                \n",
    "    # Convert the data to pandas dataframe and apply date function\n",
    "    df = pd.DataFrame(dict)\n",
    "    \n",
    "    df['raw'] = df['title'] + ' ' + df['body']\n",
    "    df.drop(['title', 'body'], axis=1, inplace=True)\n",
    "    \n",
    "    return df        "
   ]
  },
  {
   "cell_type": "code",
   "execution_count": 8,
   "metadata": {},
   "outputs": [],
   "source": [
    "df = get_top_subreddit('leaves')"
   ]
  },
  {
   "cell_type": "code",
   "execution_count": 25,
   "metadata": {},
   "outputs": [],
   "source": [
    "# Save it as CSV\n",
    "df.to_csv('rleaves.csv', index=False)"
   ]
  }
 ],
 "metadata": {
  "kernelspec": {
   "display_name": "Python 3",
   "language": "python",
   "name": "python3"
  },
  "language_info": {
   "codemirror_mode": {
    "name": "ipython",
    "version": 3
   },
   "file_extension": ".py",
   "mimetype": "text/x-python",
   "name": "python",
   "nbconvert_exporter": "python",
   "pygments_lexer": "ipython3",
   "version": "3.8.5"
  }
 },
 "nbformat": 4,
 "nbformat_minor": 4
}
