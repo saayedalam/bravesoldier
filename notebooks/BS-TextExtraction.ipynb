{
 "cells": [
  {
   "cell_type": "code",
   "execution_count": 12,
   "metadata": {},
   "outputs": [],
   "source": [
    "# Library for Reddit API\n",
    "import praw\n",
    "import pandas as pd"
   ]
  },
  {
   "cell_type": "code",
   "execution_count": 13,
   "metadata": {},
   "outputs": [],
   "source": [
    "# Reddit API Credentials\n",
    "reddit = praw.Reddit(client_id='7_PY9asBHeVJxw',\n",
    "                     client_secret='KL01wgTYZqwEDdPH-R8vNBqFYe4',\n",
    "                     password='9S2a8a7hcr!',\n",
    "                     user_agent='bravesoldier by /u/saayed',\n",
    "                     username='saayed')\n",
    "\n",
    "# Pull the subreddit of \n",
    "subreddit = reddit.subreddit('leaves')"
   ]
  },
  {
   "cell_type": "code",
   "execution_count": 14,
   "metadata": {},
   "outputs": [],
   "source": [
    "# Pulling top 1000 posts of leaves subreddit\n",
    "leaves_subreddit = reddit.subreddit('leaves').top(limit=1000)"
   ]
  },
  {
   "cell_type": "code",
   "execution_count": 15,
   "metadata": {},
   "outputs": [],
   "source": [
    "# Create an empty dictionary to save data\n",
    "dict = {'title': [],\n",
    "        'body': [],\n",
    "        'author': [],\n",
    "        'time': [],\n",
    "        'text_only': [],\n",
    "        'num_comments': [],\n",
    "       }\n",
    "\n",
    "# Storing the data in the empty dictionary\n",
    "for post in leaves_subreddit:\n",
    "    dict['title'].append(post.title)\n",
    "    dict['body'].append(post.selftext)\n",
    "    dict['author'].append(post.author)\n",
    "    dict['time'].append(post.created_utc)\n",
    "    dict['text_only'].append(post.is_self)\n",
    "    dict['num_comments'].append(post.num_comments)\n",
    "    \n",
    "# Convert the data to pandas dataframe and apply date function\n",
    "df = pd.DataFrame(dict)"
   ]
  },
  {
   "cell_type": "code",
   "execution_count": 17,
   "metadata": {},
   "outputs": [],
   "source": [
    "df['raw'] = df['title'] + ' ' + df['body']\n",
    "df.drop(['title', 'body'], axis=1, inplace=True)"
   ]
  },
  {
   "cell_type": "code",
   "execution_count": 18,
   "metadata": {},
   "outputs": [
    {
     "data": {
      "text/html": [
       "<div>\n",
       "<style scoped>\n",
       "    .dataframe tbody tr th:only-of-type {\n",
       "        vertical-align: middle;\n",
       "    }\n",
       "\n",
       "    .dataframe tbody tr th {\n",
       "        vertical-align: top;\n",
       "    }\n",
       "\n",
       "    .dataframe thead th {\n",
       "        text-align: right;\n",
       "    }\n",
       "</style>\n",
       "<table border=\"1\" class=\"dataframe\">\n",
       "  <thead>\n",
       "    <tr style=\"text-align: right;\">\n",
       "      <th></th>\n",
       "      <th>author</th>\n",
       "      <th>time</th>\n",
       "      <th>text_only</th>\n",
       "      <th>num_comments</th>\n",
       "      <th>raw</th>\n",
       "    </tr>\n",
       "  </thead>\n",
       "  <tbody>\n",
       "    <tr>\n",
       "      <th>0</th>\n",
       "      <td>Subduction</td>\n",
       "      <td>1.521563e+09</td>\n",
       "      <td>True</td>\n",
       "      <td>323</td>\n",
       "      <td>Some notes and encouragement on meditation fro...</td>\n",
       "    </tr>\n",
       "    <tr>\n",
       "      <th>1</th>\n",
       "      <td>Subduction</td>\n",
       "      <td>1.594825e+09</td>\n",
       "      <td>True</td>\n",
       "      <td>401</td>\n",
       "      <td>Day 8030: Okay, my turn to check in. I'm Subdu...</td>\n",
       "    </tr>\n",
       "    <tr>\n",
       "      <th>2</th>\n",
       "      <td>UrShadowsReflection</td>\n",
       "      <td>1.561406e+09</td>\n",
       "      <td>True</td>\n",
       "      <td>241</td>\n",
       "      <td>I quit THC cold turkey for 6 months - My Thoug...</td>\n",
       "    </tr>\n",
       "    <tr>\n",
       "      <th>3</th>\n",
       "      <td>Monoped_</td>\n",
       "      <td>1.579816e+09</td>\n",
       "      <td>False</td>\n",
       "      <td>124</td>\n",
       "      <td>I used the money normally wasted on weed to ad...</td>\n",
       "    </tr>\n",
       "    <tr>\n",
       "      <th>4</th>\n",
       "      <td>digitalsleights</td>\n",
       "      <td>1.591173e+09</td>\n",
       "      <td>True</td>\n",
       "      <td>83</td>\n",
       "      <td>My weed smoking buddy wanted to meet tonight a...</td>\n",
       "    </tr>\n",
       "    <tr>\n",
       "      <th>...</th>\n",
       "      <td>...</td>\n",
       "      <td>...</td>\n",
       "      <td>...</td>\n",
       "      <td>...</td>\n",
       "      <td>...</td>\n",
       "    </tr>\n",
       "    <tr>\n",
       "      <th>986</th>\n",
       "      <td>thatmindfuldude</td>\n",
       "      <td>1.525388e+09</td>\n",
       "      <td>True</td>\n",
       "      <td>25</td>\n",
       "      <td>Weed makes me feel okay about doing nothing wi...</td>\n",
       "    </tr>\n",
       "    <tr>\n",
       "      <th>987</th>\n",
       "      <td>Mrsmoke3677</td>\n",
       "      <td>1.603468e+09</td>\n",
       "      <td>True</td>\n",
       "      <td>25</td>\n",
       "      <td>Had an argument with my mom and smashed my bon...</td>\n",
       "    </tr>\n",
       "    <tr>\n",
       "      <th>988</th>\n",
       "      <td>esehey</td>\n",
       "      <td>1.556586e+09</td>\n",
       "      <td>True</td>\n",
       "      <td>48</td>\n",
       "      <td>7+ Days Sober and holy shit I missed being pre...</td>\n",
       "    </tr>\n",
       "    <tr>\n",
       "      <th>989</th>\n",
       "      <td>kevymattsv1</td>\n",
       "      <td>1.550970e+09</td>\n",
       "      <td>False</td>\n",
       "      <td>32</td>\n",
       "      <td>Still going strong, it really does get easier ...</td>\n",
       "    </tr>\n",
       "    <tr>\n",
       "      <th>990</th>\n",
       "      <td>DannyMin</td>\n",
       "      <td>1.522718e+09</td>\n",
       "      <td>True</td>\n",
       "      <td>43</td>\n",
       "      <td>Over 1 year sober, here's what I learned. Not ...</td>\n",
       "    </tr>\n",
       "  </tbody>\n",
       "</table>\n",
       "<p>991 rows × 5 columns</p>\n",
       "</div>"
      ],
      "text/plain": [
       "                  author          time  text_only  num_comments  \\\n",
       "0             Subduction  1.521563e+09       True           323   \n",
       "1             Subduction  1.594825e+09       True           401   \n",
       "2    UrShadowsReflection  1.561406e+09       True           241   \n",
       "3               Monoped_  1.579816e+09      False           124   \n",
       "4        digitalsleights  1.591173e+09       True            83   \n",
       "..                   ...           ...        ...           ...   \n",
       "986      thatmindfuldude  1.525388e+09       True            25   \n",
       "987          Mrsmoke3677  1.603468e+09       True            25   \n",
       "988               esehey  1.556586e+09       True            48   \n",
       "989          kevymattsv1  1.550970e+09      False            32   \n",
       "990             DannyMin  1.522718e+09       True            43   \n",
       "\n",
       "                                                   raw  \n",
       "0    Some notes and encouragement on meditation fro...  \n",
       "1    Day 8030: Okay, my turn to check in. I'm Subdu...  \n",
       "2    I quit THC cold turkey for 6 months - My Thoug...  \n",
       "3    I used the money normally wasted on weed to ad...  \n",
       "4    My weed smoking buddy wanted to meet tonight a...  \n",
       "..                                                 ...  \n",
       "986  Weed makes me feel okay about doing nothing wi...  \n",
       "987  Had an argument with my mom and smashed my bon...  \n",
       "988  7+ Days Sober and holy shit I missed being pre...  \n",
       "989  Still going strong, it really does get easier ...  \n",
       "990  Over 1 year sober, here's what I learned. Not ...  \n",
       "\n",
       "[991 rows x 5 columns]"
      ]
     },
     "execution_count": 18,
     "metadata": {},
     "output_type": "execute_result"
    }
   ],
   "source": [
    "df"
   ]
  },
  {
   "cell_type": "code",
   "execution_count": 25,
   "metadata": {},
   "outputs": [],
   "source": [
    "# Save it as CSV\n",
    "df.to_csv('rleaves.csv', index=False)"
   ]
  },
  {
   "cell_type": "code",
   "execution_count": 31,
   "metadata": {},
   "outputs": [
    {
     "name": "stdout",
     "output_type": "stream",
     "text": [
      "[jupytext] Reading modelsBS-TextExtraction.ipynb in format ipynb\n",
      "Traceback (most recent call last):\n",
      "  File \"/home/saayed/miniconda3/envs/bravesoldier/bin/jupytext\", line 8, in <module>\n",
      "    sys.exit(jupytext())\n",
      "  File \"/home/saayed/miniconda3/envs/bravesoldier/lib/python3.8/site-packages/jupytext/cli.py\", line 402, in jupytext\n",
      "    exit_code += jupytext_single_file(nb_file, args, log)\n",
      "  File \"/home/saayed/miniconda3/envs/bravesoldier/lib/python3.8/site-packages/jupytext/cli.py\", line 458, in jupytext_single_file\n",
      "    notebook = read(nb_file, fmt=fmt)\n",
      "  File \"/home/saayed/miniconda3/envs/bravesoldier/lib/python3.8/site-packages/jupytext/jupytext.py\", line 396, in read\n",
      "    with io.open(fp, encoding=\"utf-8\") as stream:\n",
      "FileNotFoundError: [Errno 2] No such file or directory: 'modelsBS-TextExtraction.ipynb'\n"
     ]
    }
   ],
   "source": [
    "!jupytext --to py BS-TextExtraction.ipynb"
   ]
  }
 ],
 "metadata": {
  "kernelspec": {
   "display_name": "Python 3",
   "language": "python",
   "name": "python3"
  },
  "language_info": {
   "codemirror_mode": {
    "name": "ipython",
    "version": 3
   },
   "file_extension": ".py",
   "mimetype": "text/x-python",
   "name": "python",
   "nbconvert_exporter": "python",
   "pygments_lexer": "ipython3",
   "version": "3.8.5"
  }
 },
 "nbformat": 4,
 "nbformat_minor": 4
}
