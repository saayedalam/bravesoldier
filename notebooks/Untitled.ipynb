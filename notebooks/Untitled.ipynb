{
 "cells": [
  {
   "cell_type": "code",
   "execution_count": 13,
   "metadata": {},
   "outputs": [],
   "source": [
    "# required libraries\n",
    "import re\n",
    "import spacy\n",
    "import string\n",
    "import textacy.ke\n",
    "import numpy as np\n",
    "import pandas as pd\n",
    "import datetime as dt\n",
    "import streamlit as st\n",
    "import matplotlib.pyplot as plt\n",
    "\n",
    "%matplotlib inline\n",
    "\n",
    "from PIL import Image\n",
    "from spacy import displacy\n",
    "from tabulate import tabulate\n",
    "from string import punctuation\n",
    "from collections import Counter\n",
    "from nltk.corpus import stopwords\n",
    "from spacy.matcher import Matcher\n",
    "from transformers import pipeline\n",
    "from nltk.stem import WordNetLemmatizer\n",
    "from wordcloud import WordCloud, STOPWORDS\n",
    "from gensim.models import Word2Vec, KeyedVectors\n",
    "from nltk.tokenize import sent_tokenize, word_tokenize"
   ]
  },
  {
   "cell_type": "code",
   "execution_count": 2,
   "metadata": {},
   "outputs": [
    {
     "data": {
      "application/vnd.jupyter.widget-view+json": {
       "model_id": "80d7a6d8671d41fc9b008ffd74ff9a4e",
       "version_major": 2,
       "version_minor": 0
      },
      "text/plain": [
       "HBox(children=(HTML(value='Downloading'), FloatProgress(value=0.0, max=629.0), HTML(value='')))"
      ]
     },
     "metadata": {},
     "output_type": "display_data"
    },
    {
     "name": "stdout",
     "output_type": "stream",
     "text": [
      "\n"
     ]
    },
    {
     "data": {
      "application/vnd.jupyter.widget-view+json": {
       "model_id": "4c4d9d5fbbe14ab4bcb3db6d009fc698",
       "version_major": 2,
       "version_minor": 0
      },
      "text/plain": [
       "HBox(children=(HTML(value='Downloading'), FloatProgress(value=0.0, max=267844284.0), HTML(value='')))"
      ]
     },
     "metadata": {},
     "output_type": "display_data"
    },
    {
     "name": "stdout",
     "output_type": "stream",
     "text": [
      "\n"
     ]
    },
    {
     "data": {
      "application/vnd.jupyter.widget-view+json": {
       "model_id": "3d28d106eb394661bf6968e090c8ab9a",
       "version_major": 2,
       "version_minor": 0
      },
      "text/plain": [
       "HBox(children=(HTML(value='Downloading'), FloatProgress(value=0.0, max=231508.0), HTML(value='')))"
      ]
     },
     "metadata": {},
     "output_type": "display_data"
    },
    {
     "name": "stdout",
     "output_type": "stream",
     "text": [
      "\n"
     ]
    }
   ],
   "source": [
    "classifier = pipeline('sentiment-analysis')"
   ]
  },
  {
   "cell_type": "code",
   "execution_count": 14,
   "metadata": {},
   "outputs": [],
   "source": [
    "# Load the local files\n",
    "rleaves = pd.read_csv('rleaves.csv', encoding='utf-8')\n",
    "\n",
    "# Cleaning up the corpus\n",
    "sp = spacy.load('en_core_web_sm')\n",
    "\n",
    "# a custom function for complete text cleanup\n",
    "def cleanup1(text):\n",
    "    text = text.lower() # lowers the corpus\n",
    "    text = re.sub('http\\S+', ' ', str(text)) # removes any url\n",
    "    text = re.sub('n\\'t\\s', ' not ', str(text))\n",
    "    text = re.sub('-(?<!\\d)', ' ', str(text)) # removing hyphens from numbers\n",
    "    text = sp(text) # apply spacy model\n",
    "    text = [w.text for w in text if not w.is_stop] # tokenize and remove stop words\n",
    "    text = sp(' '.join(text)) # join words and apply spacy model again \n",
    "    text = [w.lemma_ for w in text] # lemmatizes the words\n",
    "    stopwords_extra = ['im', 'na', 'u', 'ill', '10184285', '179180', 'as', 'oh', 'av', 'wo', 'nt', 'p', 'm', 'ta', '10000', '6000']\n",
    "    text = [word for word in text if not word in stopwords_extra] # remove additional unnecessary words\n",
    "    text = ' '.join(text)  # join the words back together  \n",
    "    text = text.translate(str.maketrans('', '', string.punctuation)) # removes all punctuation\n",
    "    text = re.sub('[^\\w\\s,]', ' ', str(text)) # removes emoticon and other non characters\n",
    "    text = re.sub('x200b', ' ', str(text)) # removing zero-width space characters\n",
    "    text = re.sub(' cannabi ', ' cannabis ', str(text))\n",
    "    return ' '.join([token for token in text.split()]) # removes trailing whitespaces\n",
    "\n",
    "# a custom function to change UTC time and split days and hours\n",
    "def change_time(utc):\n",
    "    day = dt.datetime.fromtimestamp(utc).strftime('%A')\n",
    "    hour = dt.datetime.fromtimestamp(utc).strftime('%I %p')\n",
    "    return pd.Series([day, hour])\n",
    "\n",
    "# apply preprocessing function\n",
    "rleaves[['day', 'hour']] = rleaves['time'].apply(change_time)\n",
    "rleaves['raw'] = pd.DataFrame(rleaves['raw'].apply(cleanup1))"
   ]
  },
  {
   "cell_type": "code",
   "execution_count": 19,
   "metadata": {},
   "outputs": [
    {
     "name": "stdout",
     "output_type": "stream",
     "text": [
      "[{'label': 'POSITIVE', 'score': 0.9896752834320068}]\n"
     ]
    }
   ],
   "source": [
    "print(classifier(rleaves['raw'][1]))"
   ]
  },
  {
   "cell_type": "code",
   "execution_count": 22,
   "metadata": {},
   "outputs": [
    {
     "data": {
      "text/plain": [
       "'note encouragement meditation meditate nearly 20 year see people express frustration mediation r leave word u tommybahami123 kind tough sense distract attempt clear mind u jonny070389 give meditation mind go crazy tangent meditate year credit meditation make life easy place live think pass thinking thank leaver inspiration write say give meditation mind go crazy tangent like say give work heart rate go start breathe hard mind go crazy tangent exactly meditate experience beginning learn guide tangent peace exactly learn everybody mind go crazy tangent mediation learn learn long time suggestion begin meditation attitude go experience go say going make job chore skill feel develop little ambitious starting suggestion sit quietly comfortable position darkish pitch black room set timer minute tell voice head yammer away minute go listen sit quietly listen try guide try mental note say try tell remember later sit quietly listen alarm go day try process hear think wow obsessed work let minute session day week second week actively choose somthe help set timer choose simple repetitive concentrate people focus breathing actual sensation air moving nose throat people count slowly quietly head choose make sense peaceful repetitive minute let thought rest repetitive idea inhale exhale inhale exhale choose nearly immediately lose control chatty thought intrude happen simply think quietly thought want peaceful repetition return choose lose focus happen time session quietly guide repetitive place teach frustrated time happen note remark happen return peaceful repetition task work meditation note thought stray return peaceful repetition meditate nearly 20 year practice inner thought intrude few few time experience return place peace suspect skill learn meditating begin extend outside meditation session learn aware inner dialog capable noting say separate keep take automatic influence thought action hope sense feel free ama clear'"
      ]
     },
     "execution_count": 22,
     "metadata": {},
     "output_type": "execute_result"
    }
   ],
   "source": [
    "rleaves['raw'][0]"
   ]
  },
  {
   "cell_type": "code",
   "execution_count": 23,
   "metadata": {},
   "outputs": [
    {
     "name": "stderr",
     "output_type": "stream",
     "text": [
      "2020-12-31 13:56:02.788 INFO    filelock: Lock 140086265059264 acquired on /home/saayed/.cache/huggingface/transformers/adac95cf641be69365b3dd7fe00d4114b3c7c77fb0572931db31a92d4995053b.9307b6cec4435559ec6e79d5a210a334b17706465329e138f335649d14f27e78.lock\n"
     ]
    },
    {
     "data": {
      "application/vnd.jupyter.widget-view+json": {
       "model_id": "f7ca8a4c84a44c008abb7192228d2f43",
       "version_major": 2,
       "version_minor": 0
      },
      "text/plain": [
       "HBox(children=(HTML(value='Downloading'), FloatProgress(value=0.0, max=1621.0), HTML(value='')))"
      ]
     },
     "metadata": {},
     "output_type": "display_data"
    },
    {
     "name": "stderr",
     "output_type": "stream",
     "text": [
      "2020-12-31 13:56:03.085 INFO    filelock: Lock 140086265059264 released on /home/saayed/.cache/huggingface/transformers/adac95cf641be69365b3dd7fe00d4114b3c7c77fb0572931db31a92d4995053b.9307b6cec4435559ec6e79d5a210a334b17706465329e138f335649d14f27e78.lock\n"
     ]
    },
    {
     "name": "stdout",
     "output_type": "stream",
     "text": [
      "\n"
     ]
    },
    {
     "name": "stderr",
     "output_type": "stream",
     "text": [
      "2020-12-31 13:56:03.337 INFO    filelock: Lock 140054398212416 acquired on /home/saayed/.cache/huggingface/transformers/b336fa0b874ea92e3e22f07a7e6f8fa9da01221759c33abeb2679d6d98fe7755.585965cf7e82e4536033cd21d76c486af3d6b1c2a34b3a847840d4e7fe9d8844.lock\n"
     ]
    },
    {
     "data": {
      "application/vnd.jupyter.widget-view+json": {
       "model_id": "361cdccef4ca48a7be3a58f20866668a",
       "version_major": 2,
       "version_minor": 0
      },
      "text/plain": [
       "HBox(children=(HTML(value='Downloading'), FloatProgress(value=0.0, max=1222317369.0), HTML(value='')))"
      ]
     },
     "metadata": {},
     "output_type": "display_data"
    },
    {
     "name": "stderr",
     "output_type": "stream",
     "text": [
      "2020-12-31 13:56:32.764 INFO    filelock: Lock 140054398212416 released on /home/saayed/.cache/huggingface/transformers/b336fa0b874ea92e3e22f07a7e6f8fa9da01221759c33abeb2679d6d98fe7755.585965cf7e82e4536033cd21d76c486af3d6b1c2a34b3a847840d4e7fe9d8844.lock\n"
     ]
    },
    {
     "name": "stdout",
     "output_type": "stream",
     "text": [
      "\n"
     ]
    },
    {
     "name": "stderr",
     "output_type": "stream",
     "text": [
      "2020-12-31 13:56:44.845 INFO    filelock: Lock 140054398694400 acquired on /home/saayed/.cache/huggingface/transformers/9951e68693b9a7c583ae677e9cb53c02715d9bd0311a78706401372653cdea0a.647b4548b6d9ea817e82e7a9231a320231a1c9ea24053cc9e758f3fe68216f05.lock\n"
     ]
    },
    {
     "data": {
      "application/vnd.jupyter.widget-view+json": {
       "model_id": "af36926330ba473a9ffd1a7e59997ec1",
       "version_major": 2,
       "version_minor": 0
      },
      "text/plain": [
       "HBox(children=(HTML(value='Downloading'), FloatProgress(value=0.0, max=898822.0), HTML(value='')))"
      ]
     },
     "metadata": {},
     "output_type": "display_data"
    },
    {
     "name": "stderr",
     "output_type": "stream",
     "text": [
      "2020-12-31 13:56:45.377 INFO    filelock: Lock 140054398694400 released on /home/saayed/.cache/huggingface/transformers/9951e68693b9a7c583ae677e9cb53c02715d9bd0311a78706401372653cdea0a.647b4548b6d9ea817e82e7a9231a320231a1c9ea24053cc9e758f3fe68216f05.lock\n"
     ]
    },
    {
     "name": "stdout",
     "output_type": "stream",
     "text": [
      "\n"
     ]
    },
    {
     "name": "stderr",
     "output_type": "stream",
     "text": [
      "2020-12-31 13:56:45.665 INFO    filelock: Lock 140054397914368 acquired on /home/saayed/.cache/huggingface/transformers/7588c8d398d659b230a038240cc023f67b6848117d2999f06ab625af7bfc7ec1.5d12962c5ee615a4c803841266e9c3be9a691a924f72d395d3a6c6c81157788b.lock\n"
     ]
    },
    {
     "data": {
      "application/vnd.jupyter.widget-view+json": {
       "model_id": "5ca6c832a34b464b94a7cd80af2b9626",
       "version_major": 2,
       "version_minor": 0
      },
      "text/plain": [
       "HBox(children=(HTML(value='Downloading'), FloatProgress(value=0.0, max=456318.0), HTML(value='')))"
      ]
     },
     "metadata": {},
     "output_type": "display_data"
    },
    {
     "name": "stderr",
     "output_type": "stream",
     "text": [
      "2020-12-31 13:56:46.096 INFO    filelock: Lock 140054397914368 released on /home/saayed/.cache/huggingface/transformers/7588c8d398d659b230a038240cc023f67b6848117d2999f06ab625af7bfc7ec1.5d12962c5ee615a4c803841266e9c3be9a691a924f72d395d3a6c6c81157788b.lock\n"
     ]
    },
    {
     "name": "stdout",
     "output_type": "stream",
     "text": [
      "\n"
     ]
    },
    {
     "name": "stderr",
     "output_type": "stream",
     "text": [
      "2020-12-31 13:56:47.209 INFO    filelock: Lock 140080564015360 acquired on /home/saayed/.cache/huggingface/transformers/f5316f64f9716436994a7ad76a354dc20ecb2dd74eb61d278f103a9c8b80291f.67d01b18f2079bd75eac0b2f2e7235768c7f26bd728e7a855a1c5acae01a91a8.lock\n"
     ]
    },
    {
     "data": {
      "application/vnd.jupyter.widget-view+json": {
       "model_id": "07c7e9ae31a74661b9134b33cd697f00",
       "version_major": 2,
       "version_minor": 0
      },
      "text/plain": [
       "HBox(children=(HTML(value='Downloading'), FloatProgress(value=0.0, max=26.0), HTML(value='')))"
      ]
     },
     "metadata": {},
     "output_type": "display_data"
    },
    {
     "name": "stderr",
     "output_type": "stream",
     "text": [
      "2020-12-31 13:56:47.614 INFO    filelock: Lock 140080564015360 released on /home/saayed/.cache/huggingface/transformers/f5316f64f9716436994a7ad76a354dc20ecb2dd74eb61d278f103a9c8b80291f.67d01b18f2079bd75eac0b2f2e7235768c7f26bd728e7a855a1c5acae01a91a8.lock\n"
     ]
    },
    {
     "name": "stdout",
     "output_type": "stream",
     "text": [
      "\n"
     ]
    }
   ],
   "source": [
    "summarizer = pipeline(\"summarization\")\n",
    "article = '''note encouragement meditation meditate nearly 20 year see people express frustration mediation r leave word u tommybahami123 kind tough sense distract attempt clear mind u jonny070389 give meditation mind go crazy tangent meditate year credit meditation make life easy place live think pass thinking thank leaver inspiration write say give meditation mind go crazy tangent like say give work heart rate go start breathe hard mind go crazy tangent exactly meditate experience beginning learn guide tangent peace exactly learn everybody mind go crazy tangent mediation learn learn long time suggestion begin meditation attitude go experience go say going make job chore skill feel develop little ambitious starting suggestion sit quietly comfortable position darkish pitch black room set timer minute tell voice head yammer away minute go listen sit quietly listen try guide try mental note say try tell remember later sit quietly listen alarm go day try process hear think wow obsessed work let minute session day week second week actively choose somthe help set timer choose simple repetitive concentrate people focus breathing actual sensation air moving nose throat people count slowly quietly head choose make sense peaceful repetitive minute let thought rest repetitive idea inhale exhale inhale exhale choose nearly immediately lose control chatty thought intrude happen simply think quietly thought want peaceful repetition return choose lose focus happen time session quietly guide repetitive place teach frustrated time happen note remark happen return peaceful repetition task work meditation note thought stray return peaceful repetition meditate nearly 20 year practice inner thought intrude few few time experience return place peace suspect skill learn meditating begin extend outside meditation session learn aware inner dialog capable noting say separate keep take automatic influence thought action hope sense feel free ama clear'''"
   ]
  },
  {
   "cell_type": "code",
   "execution_count": 24,
   "metadata": {},
   "outputs": [
    {
     "name": "stdout",
     "output_type": "stream",
     "text": [
      "[{'summary_text': ' meditation r leave word u tommybahami123 kind tough sense distract attempt clear mind u jonny070389 give meditation mind go crazy tangent meditate year credit meditation make life easy place live think pass thinking thank leaver inspiration write .'}]\n"
     ]
    }
   ],
   "source": [
    "print(summarizer(article, max_length=90, min_length=20))"
   ]
  }
 ],
 "metadata": {
  "kernelspec": {
   "display_name": "Python 3",
   "language": "python",
   "name": "python3"
  },
  "language_info": {
   "codemirror_mode": {
    "name": "ipython",
    "version": 3
   },
   "file_extension": ".py",
   "mimetype": "text/x-python",
   "name": "python",
   "nbconvert_exporter": "python",
   "pygments_lexer": "ipython3",
   "version": "3.8.5"
  }
 },
 "nbformat": 4,
 "nbformat_minor": 4
}
