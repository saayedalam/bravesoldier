{
 "cells": [
  {
   "cell_type": "markdown",
   "metadata": {},
   "source": [
    "# ***Text Analysis*** on r/leaves <br> (a *subreddit* support community to help stop smoking marijuana)"
   ]
  },
  {
   "cell_type": "code",
   "execution_count": 14,
   "metadata": {},
   "outputs": [],
   "source": [
    "# Creating for features \n",
    "actions = pd.DataFrame(rleaves['raw'])\n",
    "actions['num'] = np.where(actions['raw'].str.contains('\\d+'), True, False) # looks for all numbers\n",
    "actions['period'] = np.where(actions['raw'].str.contains('\\s*days* |\\s*months* |\\s*weeks* |\\s*ye?a?rs* '), True, False) # looks for time\n",
    "actions = actions.loc[(actions['num'] == True) & (actions['period'] == True)] # filter only those rows\n",
    "actions['day'] = np.where(actions['raw'].str.contains('\\d+\\s*day[s\\s]|\\s*day\\s*\\d+'), True, False) # indicates whether number is day or not\n",
    "actions['week'] = np.where(actions['raw'].str.contains('\\d+\\s*week[s\\s]|\\s*week\\s*\\d+'), True, False) # indicates whether number is week or not\n",
    "actions['month'] = np.where(actions['raw'].str.contains('\\d+\\s*month[s\\s]|\\s*month\\s*\\d+'), True, False) # indicates whether number is month or not\n",
    "actions['year'] = np.where(actions['raw'].str.contains('\\d+\\s*ye?a?r[s\\s]*'), True, False) # indicates whether number is year or not\n",
    "actions['nums'] = actions['raw'].str.findall('\\d+') # strips all the number\n",
    "actions['nums'] = [[int(n) for n in sub] for sub in actions['nums']] # convert all numbers to int\n",
    "actions['nums'] = actions['nums'].apply(lambda x: min(x)) # keep only the smallest numbers\n",
    "actions = actions.loc[(actions['nums'] > 0) & (actions['nums'] < 800)] # remove outliers\n",
    "actions[['day', 'week', 'month', 'year']] = actions[['day', 'week', 'month', 'year']].cumsum(axis=1).cumsum(axis=1) == 1 # keeping only first trues\n",
    "actions.drop(columns=['num', 'period'], inplace=True) # drop columns"
   ]
  },
  {
   "cell_type": "code",
   "execution_count": 15,
   "metadata": {},
   "outputs": [],
   "source": [
    "# a function to find ****\n",
    "def find_actions(text):\n",
    "    matcher = Matcher(sp.vocab)\n",
    "    pattern = [{'DEP': 'amod'},\n",
    "                {'POS': 'NOUN'}]\n",
    "    matcher.add(\"find_actions\", None, pattern)\n",
    "    doc = sp(''.join(text))\n",
    "    matches = matcher(doc)\n",
    "    acts = []\n",
    "    for match_id, start, end in matches:\n",
    "        span = doc[start:end]\n",
    "        acts.append(span.text) \n",
    "    return acts\n",
    "\n",
    "# apply function\n",
    "rleaves['actions'] = rleaves['raw'].apply(find_actions)"
   ]
  },
  {
   "cell_type": "code",
   "execution_count": 16,
   "metadata": {},
   "outputs": [
    {
     "data": {
      "text/plain": [
       "['tough sense',\n",
       " 'clear mind',\n",
       " 'easy place',\n",
       " 'pass thinking',\n",
       " 'crazy tangent',\n",
       " 'hard mind',\n",
       " 'crazy tangent',\n",
       " 'meditate experience',\n",
       " 'crazy tangent',\n",
       " 'long time',\n",
       " 'ambitious starting',\n",
       " 'comfortable position',\n",
       " 'black room',\n",
       " 'mental note',\n",
       " 'obsessed work',\n",
       " 'second week',\n",
       " 'actual sensation',\n",
       " 'moving nose',\n",
       " 'repetitive minute',\n",
       " 'repetitive idea',\n",
       " 'chatty thought',\n",
       " 'peaceful repetition',\n",
       " 'repetitive place',\n",
       " 'frustrated time',\n",
       " 'peaceful repetition',\n",
       " 'peaceful repetition',\n",
       " 'inner thought',\n",
       " 'few time',\n",
       " 'inner dialog',\n",
       " 'automatic influence']"
      ]
     },
     "execution_count": 16,
     "metadata": {},
     "output_type": "execute_result"
    }
   ],
   "source": [
    "rleaves['actions'][0]"
   ]
  },
  {
   "cell_type": "code",
   "execution_count": 17,
   "metadata": {},
   "outputs": [],
   "source": [
    "b = pd.DataFrame(rleaves['actions'][1], columns=['actions'])\n",
    "b['polarity'] = b['actions'].apply(lambda x: TextBlob(x).polarity)\n",
    "b['subjective'] = b['actions'].apply(lambda x: TextBlob(x).subjectivity)"
   ]
  },
  {
   "cell_type": "code",
   "execution_count": 20,
   "metadata": {},
   "outputs": [
    {
     "data": {
      "text/plain": [
       "805"
      ]
     },
     "execution_count": 20,
     "metadata": {},
     "output_type": "execute_result"
    }
   ],
   "source": [
    "rleaves['author'].nunique()"
   ]
  },
  {
   "cell_type": "code",
   "execution_count": 1,
   "metadata": {},
   "outputs": [],
   "source": [
    "from streamlit_disqus import st_disqus"
   ]
  },
  {
   "cell_type": "code",
   "execution_count": 2,
   "metadata": {},
   "outputs": [],
   "source": [
    "st_disqus(\"streamlit-disqus-demo\")"
   ]
  }
 ],
 "metadata": {
  "kernelspec": {
   "display_name": "Python 3",
   "language": "python",
   "name": "python3"
  },
  "language_info": {
   "codemirror_mode": {
    "name": "ipython",
    "version": 3
   },
   "file_extension": ".py",
   "mimetype": "text/x-python",
   "name": "python",
   "nbconvert_exporter": "python",
   "pygments_lexer": "ipython3",
   "version": "3.8.5"
  }
 },
 "nbformat": 4,
 "nbformat_minor": 4
}
