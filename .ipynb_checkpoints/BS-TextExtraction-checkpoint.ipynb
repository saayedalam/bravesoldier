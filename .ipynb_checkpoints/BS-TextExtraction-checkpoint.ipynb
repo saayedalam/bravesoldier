{
 "cells": [
  {
   "cell_type": "code",
   "execution_count": 2,
   "metadata": {},
   "outputs": [],
   "source": [
    "# Library for Reddit API\n",
    "import praw\n",
    "import pandas as pd\n",
    "\n",
    "# Reddit API Credentials\n",
    "reddit = praw.Reddit(client_id='7_PY9asBHeVJxw',\n",
    "                     client_secret='KL01wgTYZqwEDdPH-R8vNBqFYe4',\n",
    "                     password='9S2a8a7hcr!',\n",
    "                     user_agent='bravesoldier by /u/saayed',\n",
    "                     username='saayed')\n",
    "\n",
    "# Pull the subreddit of \n",
    "subreddit = reddit.subreddit('leaves')\n",
    "\n",
    "# Pulling top 1000 posts of leaves subreddit\n",
    "leaves_subreddit = reddit.subreddit('leaves').top(limit=1000)\n",
    "\n",
    "# Create an empty dictionary to save data\n",
    "dict = {'title': [],\n",
    "        'body': [],\n",
    "       }\n",
    "\n",
    "# Storing the data in the empty dictionary\n",
    "for submission in leaves_subreddit:\n",
    "    dict['title'].append(submission.title)\n",
    "    dict['body'].append(submission.selftext)\n",
    "\n",
    "# Convert the data to pandas dataframe and apply date function\n",
    "df = pd.DataFrame(dict)\n",
    "df['raw'] = df['title'] + ' ' + df['body']\n",
    "df.drop(['title', 'body'], axis=1, inplace=True)\n",
    "\n",
    "# Save it as CSV\n",
    "df.to_csv('rleaves.csv', index=False)"
   ]
  },
  {
   "cell_type": "code",
   "execution_count": 3,
   "metadata": {},
   "outputs": [
    {
     "name": "stdout",
     "output_type": "stream",
     "text": [
      "[jupytext] Reading BS-TextExtraction.ipynb in format ipynb\n",
      "[jupytext] Writing BS-TextExtraction.py (destination file replaced)\n"
     ]
    }
   ],
   "source": [
    "!jupytext --to py BS-TextExtraction.ipynb"
   ]
  }
 ],
 "metadata": {
  "kernelspec": {
   "display_name": "Python 3",
   "language": "python",
   "name": "python3"
  },
  "language_info": {
   "codemirror_mode": {
    "name": "ipython",
    "version": 3
   },
   "file_extension": ".py",
   "mimetype": "text/x-python",
   "name": "python",
   "nbconvert_exporter": "python",
   "pygments_lexer": "ipython3",
   "version": "3.7.9"
  }
 },
 "nbformat": 4,
 "nbformat_minor": 4
}
